{
 "cells": [
  {
   "cell_type": "markdown",
   "id": "86cbc259",
   "metadata": {},
   "source": [
    "# The Sparks Foundation Internship Nov 21"
   ]
  },
  {
   "cell_type": "markdown",
   "id": "762f5cd9",
   "metadata": {},
   "source": [
    "## Data Science & Business Analytics Tasks"
   ]
  },
  {
   "cell_type": "markdown",
   "id": "8afaaa41",
   "metadata": {},
   "source": [
    "### Task 1"
   ]
  },
  {
   "cell_type": "markdown",
   "id": "f5cba6ad",
   "metadata": {},
   "source": [
    "### Supervisied ML - Linear Regression"
   ]
  },
  {
   "cell_type": "markdown",
   "id": "34d748fb",
   "metadata": {},
   "source": [
    "#### The Prediction of Students Percentage based on study hours.what will be the predicted score if student study 9.25 hrs/Day"
   ]
  },
  {
   "cell_type": "code",
   "execution_count": 1,
   "id": "204fc83c",
   "metadata": {
    "ExecuteTime": {
     "end_time": "2022-11-18T12:07:08.881669Z",
     "start_time": "2022-11-18T12:07:05.292427Z"
    }
   },
   "outputs": [],
   "source": [
    "import pandas as pd\n",
    "import numpy as np\n",
    "import matplotlib.pyplot as plt\n",
    "import seaborn as sns\n",
    "from sklearn import linear_model\n",
    "from math import sqrt"
   ]
  },
  {
   "cell_type": "code",
   "execution_count": 2,
   "id": "117b5941",
   "metadata": {
    "ExecuteTime": {
     "end_time": "2022-11-18T12:07:10.592015Z",
     "start_time": "2022-11-18T12:07:08.888224Z"
    }
   },
   "outputs": [
    {
     "data": {
      "text/html": [
       "<div>\n",
       "<style scoped>\n",
       "    .dataframe tbody tr th:only-of-type {\n",
       "        vertical-align: middle;\n",
       "    }\n",
       "\n",
       "    .dataframe tbody tr th {\n",
       "        vertical-align: top;\n",
       "    }\n",
       "\n",
       "    .dataframe thead th {\n",
       "        text-align: right;\n",
       "    }\n",
       "</style>\n",
       "<table border=\"1\" class=\"dataframe\">\n",
       "  <thead>\n",
       "    <tr style=\"text-align: right;\">\n",
       "      <th></th>\n",
       "      <th>Hours</th>\n",
       "      <th>Scores</th>\n",
       "    </tr>\n",
       "  </thead>\n",
       "  <tbody>\n",
       "    <tr>\n",
       "      <th>0</th>\n",
       "      <td>2.5</td>\n",
       "      <td>21</td>\n",
       "    </tr>\n",
       "    <tr>\n",
       "      <th>1</th>\n",
       "      <td>5.1</td>\n",
       "      <td>47</td>\n",
       "    </tr>\n",
       "    <tr>\n",
       "      <th>2</th>\n",
       "      <td>3.2</td>\n",
       "      <td>27</td>\n",
       "    </tr>\n",
       "    <tr>\n",
       "      <th>3</th>\n",
       "      <td>8.5</td>\n",
       "      <td>75</td>\n",
       "    </tr>\n",
       "    <tr>\n",
       "      <th>4</th>\n",
       "      <td>3.5</td>\n",
       "      <td>30</td>\n",
       "    </tr>\n",
       "    <tr>\n",
       "      <th>5</th>\n",
       "      <td>1.5</td>\n",
       "      <td>20</td>\n",
       "    </tr>\n",
       "    <tr>\n",
       "      <th>6</th>\n",
       "      <td>9.2</td>\n",
       "      <td>88</td>\n",
       "    </tr>\n",
       "    <tr>\n",
       "      <th>7</th>\n",
       "      <td>5.5</td>\n",
       "      <td>60</td>\n",
       "    </tr>\n",
       "    <tr>\n",
       "      <th>8</th>\n",
       "      <td>8.3</td>\n",
       "      <td>81</td>\n",
       "    </tr>\n",
       "    <tr>\n",
       "      <th>9</th>\n",
       "      <td>2.7</td>\n",
       "      <td>25</td>\n",
       "    </tr>\n",
       "    <tr>\n",
       "      <th>10</th>\n",
       "      <td>7.7</td>\n",
       "      <td>85</td>\n",
       "    </tr>\n",
       "    <tr>\n",
       "      <th>11</th>\n",
       "      <td>5.9</td>\n",
       "      <td>62</td>\n",
       "    </tr>\n",
       "    <tr>\n",
       "      <th>12</th>\n",
       "      <td>4.5</td>\n",
       "      <td>41</td>\n",
       "    </tr>\n",
       "    <tr>\n",
       "      <th>13</th>\n",
       "      <td>3.3</td>\n",
       "      <td>42</td>\n",
       "    </tr>\n",
       "    <tr>\n",
       "      <th>14</th>\n",
       "      <td>1.1</td>\n",
       "      <td>17</td>\n",
       "    </tr>\n",
       "    <tr>\n",
       "      <th>15</th>\n",
       "      <td>8.9</td>\n",
       "      <td>95</td>\n",
       "    </tr>\n",
       "    <tr>\n",
       "      <th>16</th>\n",
       "      <td>2.5</td>\n",
       "      <td>30</td>\n",
       "    </tr>\n",
       "    <tr>\n",
       "      <th>17</th>\n",
       "      <td>1.9</td>\n",
       "      <td>24</td>\n",
       "    </tr>\n",
       "    <tr>\n",
       "      <th>18</th>\n",
       "      <td>6.1</td>\n",
       "      <td>67</td>\n",
       "    </tr>\n",
       "    <tr>\n",
       "      <th>19</th>\n",
       "      <td>7.4</td>\n",
       "      <td>69</td>\n",
       "    </tr>\n",
       "    <tr>\n",
       "      <th>20</th>\n",
       "      <td>2.7</td>\n",
       "      <td>30</td>\n",
       "    </tr>\n",
       "    <tr>\n",
       "      <th>21</th>\n",
       "      <td>4.8</td>\n",
       "      <td>54</td>\n",
       "    </tr>\n",
       "    <tr>\n",
       "      <th>22</th>\n",
       "      <td>3.8</td>\n",
       "      <td>35</td>\n",
       "    </tr>\n",
       "    <tr>\n",
       "      <th>23</th>\n",
       "      <td>6.9</td>\n",
       "      <td>76</td>\n",
       "    </tr>\n",
       "    <tr>\n",
       "      <th>24</th>\n",
       "      <td>7.8</td>\n",
       "      <td>86</td>\n",
       "    </tr>\n",
       "  </tbody>\n",
       "</table>\n",
       "</div>"
      ],
      "text/plain": [
       "    Hours  Scores\n",
       "0     2.5      21\n",
       "1     5.1      47\n",
       "2     3.2      27\n",
       "3     8.5      75\n",
       "4     3.5      30\n",
       "5     1.5      20\n",
       "6     9.2      88\n",
       "7     5.5      60\n",
       "8     8.3      81\n",
       "9     2.7      25\n",
       "10    7.7      85\n",
       "11    5.9      62\n",
       "12    4.5      41\n",
       "13    3.3      42\n",
       "14    1.1      17\n",
       "15    8.9      95\n",
       "16    2.5      30\n",
       "17    1.9      24\n",
       "18    6.1      67\n",
       "19    7.4      69\n",
       "20    2.7      30\n",
       "21    4.8      54\n",
       "22    3.8      35\n",
       "23    6.9      76\n",
       "24    7.8      86"
      ]
     },
     "execution_count": 2,
     "metadata": {},
     "output_type": "execute_result"
    }
   ],
   "source": [
    "url = \"http://bit.ly/w-data\"\n",
    "data = pd.read_csv(url)\n",
    "data"
   ]
  },
  {
   "cell_type": "markdown",
   "id": "1a9e6eaf",
   "metadata": {},
   "source": [
    "## Exploring the Dataset"
   ]
  },
  {
   "cell_type": "code",
   "execution_count": 3,
   "id": "4f251016",
   "metadata": {
    "ExecuteTime": {
     "end_time": "2022-11-18T12:07:10.616809Z",
     "start_time": "2022-11-18T12:07:10.592862Z"
    }
   },
   "outputs": [
    {
     "data": {
      "text/plain": [
       "(25, 2)"
      ]
     },
     "execution_count": 3,
     "metadata": {},
     "output_type": "execute_result"
    }
   ],
   "source": [
    "data.shape"
   ]
  },
  {
   "cell_type": "code",
   "execution_count": 4,
   "id": "08a774ba",
   "metadata": {
    "ExecuteTime": {
     "end_time": "2022-11-18T12:07:10.657039Z",
     "start_time": "2022-11-18T12:07:10.622830Z"
    }
   },
   "outputs": [
    {
     "data": {
      "text/html": [
       "<div>\n",
       "<style scoped>\n",
       "    .dataframe tbody tr th:only-of-type {\n",
       "        vertical-align: middle;\n",
       "    }\n",
       "\n",
       "    .dataframe tbody tr th {\n",
       "        vertical-align: top;\n",
       "    }\n",
       "\n",
       "    .dataframe thead th {\n",
       "        text-align: right;\n",
       "    }\n",
       "</style>\n",
       "<table border=\"1\" class=\"dataframe\">\n",
       "  <thead>\n",
       "    <tr style=\"text-align: right;\">\n",
       "      <th></th>\n",
       "      <th>Hours</th>\n",
       "      <th>Scores</th>\n",
       "    </tr>\n",
       "  </thead>\n",
       "  <tbody>\n",
       "    <tr>\n",
       "      <th>count</th>\n",
       "      <td>25.000000</td>\n",
       "      <td>25.000000</td>\n",
       "    </tr>\n",
       "    <tr>\n",
       "      <th>mean</th>\n",
       "      <td>5.012000</td>\n",
       "      <td>51.480000</td>\n",
       "    </tr>\n",
       "    <tr>\n",
       "      <th>std</th>\n",
       "      <td>2.525094</td>\n",
       "      <td>25.286887</td>\n",
       "    </tr>\n",
       "    <tr>\n",
       "      <th>min</th>\n",
       "      <td>1.100000</td>\n",
       "      <td>17.000000</td>\n",
       "    </tr>\n",
       "    <tr>\n",
       "      <th>25%</th>\n",
       "      <td>2.700000</td>\n",
       "      <td>30.000000</td>\n",
       "    </tr>\n",
       "    <tr>\n",
       "      <th>50%</th>\n",
       "      <td>4.800000</td>\n",
       "      <td>47.000000</td>\n",
       "    </tr>\n",
       "    <tr>\n",
       "      <th>75%</th>\n",
       "      <td>7.400000</td>\n",
       "      <td>75.000000</td>\n",
       "    </tr>\n",
       "    <tr>\n",
       "      <th>max</th>\n",
       "      <td>9.200000</td>\n",
       "      <td>95.000000</td>\n",
       "    </tr>\n",
       "  </tbody>\n",
       "</table>\n",
       "</div>"
      ],
      "text/plain": [
       "           Hours     Scores\n",
       "count  25.000000  25.000000\n",
       "mean    5.012000  51.480000\n",
       "std     2.525094  25.286887\n",
       "min     1.100000  17.000000\n",
       "25%     2.700000  30.000000\n",
       "50%     4.800000  47.000000\n",
       "75%     7.400000  75.000000\n",
       "max     9.200000  95.000000"
      ]
     },
     "execution_count": 4,
     "metadata": {},
     "output_type": "execute_result"
    }
   ],
   "source": [
    "data.describe()"
   ]
  },
  {
   "cell_type": "markdown",
   "id": "e8772051",
   "metadata": {},
   "source": [
    "#### The Average hours of Study is 5.01 hrs.\n",
    "#### The Average Percentage of students is 51.48%"
   ]
  },
  {
   "cell_type": "code",
   "execution_count": 5,
   "id": "befbf8e3",
   "metadata": {
    "ExecuteTime": {
     "end_time": "2022-11-18T12:07:10.689779Z",
     "start_time": "2022-11-18T12:07:10.663246Z"
    }
   },
   "outputs": [
    {
     "name": "stdout",
     "output_type": "stream",
     "text": [
      "<class 'pandas.core.frame.DataFrame'>\n",
      "RangeIndex: 25 entries, 0 to 24\n",
      "Data columns (total 2 columns):\n",
      " #   Column  Non-Null Count  Dtype  \n",
      "---  ------  --------------  -----  \n",
      " 0   Hours   25 non-null     float64\n",
      " 1   Scores  25 non-null     int64  \n",
      "dtypes: float64(1), int64(1)\n",
      "memory usage: 528.0 bytes\n"
     ]
    }
   ],
   "source": [
    "data.info()"
   ]
  },
  {
   "cell_type": "code",
   "execution_count": 6,
   "id": "c38483bd",
   "metadata": {
    "ExecuteTime": {
     "end_time": "2022-11-18T12:07:10.720611Z",
     "start_time": "2022-11-18T12:07:10.698334Z"
    }
   },
   "outputs": [
    {
     "data": {
      "text/html": [
       "<div>\n",
       "<style scoped>\n",
       "    .dataframe tbody tr th:only-of-type {\n",
       "        vertical-align: middle;\n",
       "    }\n",
       "\n",
       "    .dataframe tbody tr th {\n",
       "        vertical-align: top;\n",
       "    }\n",
       "\n",
       "    .dataframe thead th {\n",
       "        text-align: right;\n",
       "    }\n",
       "</style>\n",
       "<table border=\"1\" class=\"dataframe\">\n",
       "  <thead>\n",
       "    <tr style=\"text-align: right;\">\n",
       "      <th></th>\n",
       "      <th>Hours</th>\n",
       "      <th>Scores</th>\n",
       "    </tr>\n",
       "  </thead>\n",
       "  <tbody>\n",
       "    <tr>\n",
       "      <th>0</th>\n",
       "      <td>2.5</td>\n",
       "      <td>21</td>\n",
       "    </tr>\n",
       "    <tr>\n",
       "      <th>1</th>\n",
       "      <td>5.1</td>\n",
       "      <td>47</td>\n",
       "    </tr>\n",
       "    <tr>\n",
       "      <th>2</th>\n",
       "      <td>3.2</td>\n",
       "      <td>27</td>\n",
       "    </tr>\n",
       "    <tr>\n",
       "      <th>3</th>\n",
       "      <td>8.5</td>\n",
       "      <td>75</td>\n",
       "    </tr>\n",
       "    <tr>\n",
       "      <th>4</th>\n",
       "      <td>3.5</td>\n",
       "      <td>30</td>\n",
       "    </tr>\n",
       "  </tbody>\n",
       "</table>\n",
       "</div>"
      ],
      "text/plain": [
       "   Hours  Scores\n",
       "0    2.5      21\n",
       "1    5.1      47\n",
       "2    3.2      27\n",
       "3    8.5      75\n",
       "4    3.5      30"
      ]
     },
     "execution_count": 6,
     "metadata": {},
     "output_type": "execute_result"
    }
   ],
   "source": [
    "data.head()"
   ]
  },
  {
   "cell_type": "code",
   "execution_count": 7,
   "id": "650a8804",
   "metadata": {
    "ExecuteTime": {
     "end_time": "2022-11-18T12:07:10.762125Z",
     "start_time": "2022-11-18T12:07:10.728013Z"
    }
   },
   "outputs": [
    {
     "data": {
      "text/html": [
       "<div>\n",
       "<style scoped>\n",
       "    .dataframe tbody tr th:only-of-type {\n",
       "        vertical-align: middle;\n",
       "    }\n",
       "\n",
       "    .dataframe tbody tr th {\n",
       "        vertical-align: top;\n",
       "    }\n",
       "\n",
       "    .dataframe thead th {\n",
       "        text-align: right;\n",
       "    }\n",
       "</style>\n",
       "<table border=\"1\" class=\"dataframe\">\n",
       "  <thead>\n",
       "    <tr style=\"text-align: right;\">\n",
       "      <th></th>\n",
       "      <th>Hours</th>\n",
       "      <th>Scores</th>\n",
       "    </tr>\n",
       "  </thead>\n",
       "  <tbody>\n",
       "    <tr>\n",
       "      <th>20</th>\n",
       "      <td>2.7</td>\n",
       "      <td>30</td>\n",
       "    </tr>\n",
       "    <tr>\n",
       "      <th>21</th>\n",
       "      <td>4.8</td>\n",
       "      <td>54</td>\n",
       "    </tr>\n",
       "    <tr>\n",
       "      <th>22</th>\n",
       "      <td>3.8</td>\n",
       "      <td>35</td>\n",
       "    </tr>\n",
       "    <tr>\n",
       "      <th>23</th>\n",
       "      <td>6.9</td>\n",
       "      <td>76</td>\n",
       "    </tr>\n",
       "    <tr>\n",
       "      <th>24</th>\n",
       "      <td>7.8</td>\n",
       "      <td>86</td>\n",
       "    </tr>\n",
       "  </tbody>\n",
       "</table>\n",
       "</div>"
      ],
      "text/plain": [
       "    Hours  Scores\n",
       "20    2.7      30\n",
       "21    4.8      54\n",
       "22    3.8      35\n",
       "23    6.9      76\n",
       "24    7.8      86"
      ]
     },
     "execution_count": 7,
     "metadata": {},
     "output_type": "execute_result"
    }
   ],
   "source": [
    "data.tail()"
   ]
  },
  {
   "cell_type": "code",
   "execution_count": 8,
   "id": "0c38396e",
   "metadata": {
    "ExecuteTime": {
     "end_time": "2022-11-18T12:07:10.789556Z",
     "start_time": "2022-11-18T12:07:10.766187Z"
    }
   },
   "outputs": [
    {
     "data": {
      "text/plain": [
       "Hours     0\n",
       "Scores    0\n",
       "dtype: int64"
      ]
     },
     "execution_count": 8,
     "metadata": {},
     "output_type": "execute_result"
    }
   ],
   "source": [
    "data.isna().sum()     #checking the null values\n"
   ]
  },
  {
   "cell_type": "markdown",
   "id": "b917072e",
   "metadata": {},
   "source": [
    "#### There is no Null Values"
   ]
  },
  {
   "cell_type": "markdown",
   "id": "77753e9d",
   "metadata": {},
   "source": [
    "# Visualizing Data"
   ]
  },
  {
   "cell_type": "code",
   "execution_count": 9,
   "id": "b9324c6a",
   "metadata": {
    "ExecuteTime": {
     "end_time": "2022-11-18T12:07:11.170694Z",
     "start_time": "2022-11-18T12:07:10.798182Z"
    }
   },
   "outputs": [
    {
     "data": {
      "image/png": "[encoded data removed]",
      "text/plain": [
       "<Figure size 432x288 with 1 Axes>"
      ]
     },
     "metadata": {
      "needs_background": "light"
     },
     "output_type": "display_data"
    }
   ],
   "source": [
    "%matplotlib inline \n",
    "plt.scatter(data.Hours,data.Scores,color=\"red\",marker=\"+\")\n",
    "plt.xlabel(\"hours Studied\")\n",
    "plt.ylabel(\"Percentage of Scores\")\n",
    "plt.title(\"Hours vs Percentage Scores\")\n",
    "plt.show()"
   ]
  },
  {
   "cell_type": "markdown",
   "id": "f6297b48",
   "metadata": {},
   "source": [
    "#### From the above graph we observe that there is positive relation between two variables\"Hours Studied and percentage of Scores\"."
   ]
  },
  {
   "cell_type": "markdown",
   "id": "522a5d0e",
   "metadata": {},
   "source": [
    "# Prepare Data"
   ]
  },
  {
   "cell_type": "markdown",
   "id": "6c7e5aca",
   "metadata": {},
   "source": [
    "#### prepare  data as Independent & Dependent Variable"
   ]
  },
  {
   "cell_type": "markdown",
   "id": "48778bd3",
   "metadata": {},
   "source": [
    "#### X is independaent variable\"Hours Studied\"\n",
    "#### Y is dependent variable \"Percentage of Scores\""
   ]
  },
  {
   "cell_type": "code",
   "execution_count": 11,
   "id": "308cb366",
   "metadata": {
    "ExecuteTime": {
     "end_time": "2022-11-18T12:07:42.459872Z",
     "start_time": "2022-11-18T12:07:42.452616Z"
    }
   },
   "outputs": [],
   "source": [
    "x=data.iloc[:,:-1].values\n",
    "y=data.iloc[:,1].values"
   ]
  },
  {
   "cell_type": "code",
   "execution_count": 13,
   "id": "42826f37",
   "metadata": {
    "ExecuteTime": {
     "end_time": "2022-11-18T12:11:21.045842Z",
     "start_time": "2022-11-18T12:11:21.033505Z"
    }
   },
   "outputs": [
    {
     "name": "stdout",
     "output_type": "stream",
     "text": [
      "successfully split the data\n"
     ]
    }
   ],
   "source": [
    "# Spliting the data\n",
    "from sklearn.model_selection import train_test_split\n",
    "x_train,x_test,y_train,y_test=train_test_split(x,y,test_size=0.3,random_state=0)\n",
    "\n",
    "print(\"successfully split the data\")"
   ]
  },
  {
   "cell_type": "markdown",
   "id": "6329d7e9",
   "metadata": {},
   "source": [
    "## Fitting Linear Regression through Train Model"
   ]
  },
  {
   "cell_type": "code",
   "execution_count": 14,
   "id": "3ea38058",
   "metadata": {
    "ExecuteTime": {
     "end_time": "2022-11-18T12:22:26.274749Z",
     "start_time": "2022-11-18T12:22:26.221163Z"
    }
   },
   "outputs": [
    {
     "data": {
      "text/plain": [
       "LinearRegression()"
      ]
     },
     "execution_count": 14,
     "metadata": {},
     "output_type": "execute_result"
    }
   ],
   "source": [
    "regression=linear_model.LinearRegression()\n",
    "regression.fit(x_train,y_train)"
   ]
  },
  {
   "cell_type": "code",
   "execution_count": 16,
   "id": "070285f0",
   "metadata": {
    "ExecuteTime": {
     "end_time": "2022-11-18T12:26:11.895920Z",
     "start_time": "2022-11-18T12:26:11.882908Z"
    }
   },
   "outputs": [
    {
     "name": "stdout",
     "output_type": "stream",
     "text": [
      "2.370815382341881\n",
      "[9.78856669]\n"
     ]
    }
   ],
   "source": [
    "# plotting the regression line\n",
    "regline=regression.coef_*x+regression.intercept_\n",
    "print(regression.intercept_)    ##intercept of regression line\n",
    "print(regression.coef_)      ## Coefficient of regression line"
   ]
  },
  {
   "cell_type": "markdown",
   "id": "10e47b1f",
   "metadata": {},
   "source": [
    "## Plotting thr regression line on data:"
   ]
  },
  {
   "cell_type": "code",
   "execution_count": 17,
   "id": "a6973253",
   "metadata": {
    "ExecuteTime": {
     "end_time": "2022-11-18T12:30:28.479988Z",
     "start_time": "2022-11-18T12:30:28.239285Z"
    }
   },
   "outputs": [
    {
     "data": {
      "image/png": "[encoded data removed]",
      "text/plain": [
       "<Figure size 432x288 with 1 Axes>"
      ]
     },
     "metadata": {
      "needs_background": "light"
     },
     "output_type": "display_data"
    }
   ],
   "source": [
    "plt.scatter(x,y,color=\"Purple\",marker=\"+\")\n",
    "plt.plot(x,regline,color=\"red\");\n",
    "plt.xlabel(\"hours Studied\")\n",
    "plt.ylabel(\"Percentage of Scores\")\n",
    "plt.title(\"Hours vs Percentage Scores\")\n",
    "plt.show()"
   ]
  },
  {
   "cell_type": "markdown",
   "id": "71830238",
   "metadata": {},
   "source": [
    "#### Form the above graph we observe data there is highly positive linear regression between hours of studied and percentage of scores. "
   ]
  },
  {
   "cell_type": "markdown",
   "id": "e47b52af",
   "metadata": {},
   "source": [
    "# Making prediction "
   ]
  },
  {
   "cell_type": "markdown",
   "id": "0468e9ea",
   "metadata": {},
   "source": [
    "#### predict the x_test set."
   ]
  },
  {
   "cell_type": "code",
   "execution_count": 18,
   "id": "ab10e41d",
   "metadata": {
    "ExecuteTime": {
     "end_time": "2022-11-18T12:52:37.657848Z",
     "start_time": "2022-11-18T12:52:37.638401Z"
    }
   },
   "outputs": [
    {
     "name": "stdout",
     "output_type": "stream",
     "text": [
      "[17.05366541 33.69422878 74.80620886 26.8422321  60.12335883 39.56736879\n",
      " 20.96909209 78.72163554]\n"
     ]
    }
   ],
   "source": [
    "y_pred=regression.predict(x_test)\n",
    "print(y_pred)"
   ]
  },
  {
   "cell_type": "markdown",
   "id": "53e363ce",
   "metadata": {},
   "source": [
    "#### As our task,let's predict the score when study hour is 9.25"
   ]
  },
  {
   "cell_type": "code",
   "execution_count": 19,
   "id": "53734eba",
   "metadata": {
    "ExecuteTime": {
     "end_time": "2022-11-18T12:54:52.098524Z",
     "start_time": "2022-11-18T12:54:52.084855Z"
    }
   },
   "outputs": [
    {
     "name": "stdout",
     "output_type": "stream",
     "text": [
      "[92.91505723]\n"
     ]
    }
   ],
   "source": [
    "hour=9.25\n",
    "my_pred=regression.predict([[hour]])\n",
    "print(my_pred)"
   ]
  },
  {
   "cell_type": "markdown",
   "id": "1a32f875",
   "metadata": {},
   "source": [
    "# Evaluating the Model"
   ]
  },
  {
   "cell_type": "markdown",
   "id": "4d9500de",
   "metadata": {},
   "source": [
    "#### To check the performance we consider R-square,Mean square Error and Mean Absolute Error.Note,you can  choose any one of the about  method to check performance of model."
   ]
  },
  {
   "cell_type": "code",
   "execution_count": 20,
   "id": "0fb10111",
   "metadata": {
    "ExecuteTime": {
     "end_time": "2022-11-18T13:00:37.460650Z",
     "start_time": "2022-11-18T13:00:37.449336Z"
    }
   },
   "outputs": [],
   "source": [
    "from sklearn import metrics"
   ]
  },
  {
   "cell_type": "code",
   "execution_count": 21,
   "id": "3e3e25c1",
   "metadata": {
    "ExecuteTime": {
     "end_time": "2022-11-18T13:00:49.727608Z",
     "start_time": "2022-11-18T13:00:49.706843Z"
    }
   },
   "outputs": [
    {
     "name": "stdout",
     "output_type": "stream",
     "text": [
      "R-square: 0.9568211104435257\n",
      "MSE: 22.96509721270043\n",
      "Mean Absolute Error: 4.419727808027652\n"
     ]
    }
   ],
   "source": [
    "print(\"R-square:\",regression.score(x_test,y_test))\n",
    "print(\"MSE:\",metrics.mean_squared_error(y_test,y_pred))\n",
    "print('Mean Absolute Error:',metrics.mean_absolute_error(y_test, y_pred))"
   ]
  },
  {
   "cell_type": "markdown",
   "id": "f169cda6",
   "metadata": {},
   "source": [
    "#### From the above R-square value,If a student 9.5 Hours daily,then scores will be 0.9568211104435257"
   ]
  },
  {
   "cell_type": "markdown",
   "id": "614af4eb",
   "metadata": {},
   "source": [
    "# THANK YOU !!"
   ]
  }
 ],
 "metadata": {
  "kernelspec": {
   "display_name": "Python 3 (ipykernel)",
   "language": "python",
   "name": "python3"
  },
  "language_info": {
   "codemirror_mode": {
    "name": "ipython",
    "version": 3
   },
   "file_extension": ".py",
   "mimetype": "text/x-python",
   "name": "python",
   "nbconvert_exporter": "python",
   "pygments_lexer": "ipython3",
   "version": "3.9.12"
  }
 },
 "nbformat": 4,
 "nbformat_minor": 5
}
