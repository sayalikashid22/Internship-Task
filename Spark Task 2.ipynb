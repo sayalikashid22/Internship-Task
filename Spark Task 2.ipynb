{
 "cells": [
  {
   "cell_type": "markdown",
   "id": "a87d16ff",
   "metadata": {},
   "source": [
    "# Data science and Business Analytics Internship "
   ]
  },
  {
   "cell_type": "markdown",
   "id": "06dfe784",
   "metadata": {},
   "source": [
    "# The Sparks Foundation Internship Nov 21"
   ]
  },
  {
   "cell_type": "markdown",
   "id": "ddf985d6",
   "metadata": {},
   "source": [
    "## Task 2 - Prediction Using Unsupervised ML"
   ]
  },
  {
   "cell_type": "code",
   "execution_count": 13,
   "id": "501295ac",
   "metadata": {
    "ExecuteTime": {
     "end_time": "2022-12-02T07:40:46.098222Z",
     "start_time": "2022-12-02T07:40:45.679369Z"
    }
   },
   "outputs": [],
   "source": [
    "# Importing the libaries\n",
    "import numpy as np\n",
    "import pandas as pd\n",
    "import matplotlib.pyplot as plt\n",
    "import seaborn as sns\n",
    "from sklearn import datasets"
   ]
  },
  {
   "cell_type": "code",
   "execution_count": 35,
   "id": "2fb79407",
   "metadata": {
    "ExecuteTime": {
     "end_time": "2022-12-02T08:56:08.004979Z",
     "start_time": "2022-12-02T08:56:07.967053Z"
    }
   },
   "outputs": [
    {
     "data": {
      "text/html": [
       "<div>\n",
       "<style scoped>\n",
       "    .dataframe tbody tr th:only-of-type {\n",
       "        vertical-align: middle;\n",
       "    }\n",
       "\n",
       "    .dataframe tbody tr th {\n",
       "        vertical-align: top;\n",
       "    }\n",
       "\n",
       "    .dataframe thead th {\n",
       "        text-align: right;\n",
       "    }\n",
       "</style>\n",
       "<table border=\"1\" class=\"dataframe\">\n",
       "  <thead>\n",
       "    <tr style=\"text-align: right;\">\n",
       "      <th></th>\n",
       "      <th>sepal length (cm)</th>\n",
       "      <th>sepal width (cm)</th>\n",
       "      <th>petal length (cm)</th>\n",
       "      <th>petal width (cm)</th>\n",
       "    </tr>\n",
       "  </thead>\n",
       "  <tbody>\n",
       "    <tr>\n",
       "      <th>0</th>\n",
       "      <td>5.1</td>\n",
       "      <td>3.5</td>\n",
       "      <td>1.4</td>\n",
       "      <td>0.2</td>\n",
       "    </tr>\n",
       "    <tr>\n",
       "      <th>1</th>\n",
       "      <td>4.9</td>\n",
       "      <td>3.0</td>\n",
       "      <td>1.4</td>\n",
       "      <td>0.2</td>\n",
       "    </tr>\n",
       "    <tr>\n",
       "      <th>2</th>\n",
       "      <td>4.7</td>\n",
       "      <td>3.2</td>\n",
       "      <td>1.3</td>\n",
       "      <td>0.2</td>\n",
       "    </tr>\n",
       "    <tr>\n",
       "      <th>3</th>\n",
       "      <td>4.6</td>\n",
       "      <td>3.1</td>\n",
       "      <td>1.5</td>\n",
       "      <td>0.2</td>\n",
       "    </tr>\n",
       "    <tr>\n",
       "      <th>4</th>\n",
       "      <td>5.0</td>\n",
       "      <td>3.6</td>\n",
       "      <td>1.4</td>\n",
       "      <td>0.2</td>\n",
       "    </tr>\n",
       "    <tr>\n",
       "      <th>...</th>\n",
       "      <td>...</td>\n",
       "      <td>...</td>\n",
       "      <td>...</td>\n",
       "      <td>...</td>\n",
       "    </tr>\n",
       "    <tr>\n",
       "      <th>145</th>\n",
       "      <td>6.7</td>\n",
       "      <td>3.0</td>\n",
       "      <td>5.2</td>\n",
       "      <td>2.3</td>\n",
       "    </tr>\n",
       "    <tr>\n",
       "      <th>146</th>\n",
       "      <td>6.3</td>\n",
       "      <td>2.5</td>\n",
       "      <td>5.0</td>\n",
       "      <td>1.9</td>\n",
       "    </tr>\n",
       "    <tr>\n",
       "      <th>147</th>\n",
       "      <td>6.5</td>\n",
       "      <td>3.0</td>\n",
       "      <td>5.2</td>\n",
       "      <td>2.0</td>\n",
       "    </tr>\n",
       "    <tr>\n",
       "      <th>148</th>\n",
       "      <td>6.2</td>\n",
       "      <td>3.4</td>\n",
       "      <td>5.4</td>\n",
       "      <td>2.3</td>\n",
       "    </tr>\n",
       "    <tr>\n",
       "      <th>149</th>\n",
       "      <td>5.9</td>\n",
       "      <td>3.0</td>\n",
       "      <td>5.1</td>\n",
       "      <td>1.8</td>\n",
       "    </tr>\n",
       "  </tbody>\n",
       "</table>\n",
       "<p>150 rows × 4 columns</p>\n",
       "</div>"
      ],
      "text/plain": [
       "     sepal length (cm)  sepal width (cm)  petal length (cm)  petal width (cm)\n",
       "0                  5.1               3.5                1.4               0.2\n",
       "1                  4.9               3.0                1.4               0.2\n",
       "2                  4.7               3.2                1.3               0.2\n",
       "3                  4.6               3.1                1.5               0.2\n",
       "4                  5.0               3.6                1.4               0.2\n",
       "..                 ...               ...                ...               ...\n",
       "145                6.7               3.0                5.2               2.3\n",
       "146                6.3               2.5                5.0               1.9\n",
       "147                6.5               3.0                5.2               2.0\n",
       "148                6.2               3.4                5.4               2.3\n",
       "149                5.9               3.0                5.1               1.8\n",
       "\n",
       "[150 rows x 4 columns]"
      ]
     },
     "execution_count": 35,
     "metadata": {},
     "output_type": "execute_result"
    }
   ],
   "source": [
    "#load the require iris dataset\n",
    "iris = datasets.load_iris()\n",
    "irisdata= pd.DataFrame(iris.data, columns = iris.feature_names)\n",
    "irisdata"
   ]
  },
  {
   "cell_type": "markdown",
   "id": "fc094439",
   "metadata": {},
   "source": [
    "# Exploring The Dataset "
   ]
  },
  {
   "cell_type": "code",
   "execution_count": 3,
   "id": "01378c8a",
   "metadata": {
    "ExecuteTime": {
     "end_time": "2022-12-02T07:34:06.372088Z",
     "start_time": "2022-12-02T07:34:06.351502Z"
    }
   },
   "outputs": [
    {
     "data": {
      "text/plain": [
       "(150, 4)"
      ]
     },
     "execution_count": 3,
     "metadata": {},
     "output_type": "execute_result"
    }
   ],
   "source": [
    "irisdata.shape"
   ]
  },
  {
   "cell_type": "code",
   "execution_count": 4,
   "id": "d772168d",
   "metadata": {
    "ExecuteTime": {
     "end_time": "2022-12-02T07:34:06.455155Z",
     "start_time": "2022-12-02T07:34:06.379784Z"
    }
   },
   "outputs": [
    {
     "data": {
      "text/html": [
       "<div>\n",
       "<style scoped>\n",
       "    .dataframe tbody tr th:only-of-type {\n",
       "        vertical-align: middle;\n",
       "    }\n",
       "\n",
       "    .dataframe tbody tr th {\n",
       "        vertical-align: top;\n",
       "    }\n",
       "\n",
       "    .dataframe thead th {\n",
       "        text-align: right;\n",
       "    }\n",
       "</style>\n",
       "<table border=\"1\" class=\"dataframe\">\n",
       "  <thead>\n",
       "    <tr style=\"text-align: right;\">\n",
       "      <th></th>\n",
       "      <th>sepal length (cm)</th>\n",
       "      <th>sepal width (cm)</th>\n",
       "      <th>petal length (cm)</th>\n",
       "      <th>petal width (cm)</th>\n",
       "    </tr>\n",
       "  </thead>\n",
       "  <tbody>\n",
       "    <tr>\n",
       "      <th>count</th>\n",
       "      <td>150.000000</td>\n",
       "      <td>150.000000</td>\n",
       "      <td>150.000000</td>\n",
       "      <td>150.000000</td>\n",
       "    </tr>\n",
       "    <tr>\n",
       "      <th>mean</th>\n",
       "      <td>5.843333</td>\n",
       "      <td>3.057333</td>\n",
       "      <td>3.758000</td>\n",
       "      <td>1.199333</td>\n",
       "    </tr>\n",
       "    <tr>\n",
       "      <th>std</th>\n",
       "      <td>0.828066</td>\n",
       "      <td>0.435866</td>\n",
       "      <td>1.765298</td>\n",
       "      <td>0.762238</td>\n",
       "    </tr>\n",
       "    <tr>\n",
       "      <th>min</th>\n",
       "      <td>4.300000</td>\n",
       "      <td>2.000000</td>\n",
       "      <td>1.000000</td>\n",
       "      <td>0.100000</td>\n",
       "    </tr>\n",
       "    <tr>\n",
       "      <th>25%</th>\n",
       "      <td>5.100000</td>\n",
       "      <td>2.800000</td>\n",
       "      <td>1.600000</td>\n",
       "      <td>0.300000</td>\n",
       "    </tr>\n",
       "    <tr>\n",
       "      <th>50%</th>\n",
       "      <td>5.800000</td>\n",
       "      <td>3.000000</td>\n",
       "      <td>4.350000</td>\n",
       "      <td>1.300000</td>\n",
       "    </tr>\n",
       "    <tr>\n",
       "      <th>75%</th>\n",
       "      <td>6.400000</td>\n",
       "      <td>3.300000</td>\n",
       "      <td>5.100000</td>\n",
       "      <td>1.800000</td>\n",
       "    </tr>\n",
       "    <tr>\n",
       "      <th>max</th>\n",
       "      <td>7.900000</td>\n",
       "      <td>4.400000</td>\n",
       "      <td>6.900000</td>\n",
       "      <td>2.500000</td>\n",
       "    </tr>\n",
       "  </tbody>\n",
       "</table>\n",
       "</div>"
      ],
      "text/plain": [
       "       sepal length (cm)  sepal width (cm)  petal length (cm)  \\\n",
       "count         150.000000        150.000000         150.000000   \n",
       "mean            5.843333          3.057333           3.758000   \n",
       "std             0.828066          0.435866           1.765298   \n",
       "min             4.300000          2.000000           1.000000   \n",
       "25%             5.100000          2.800000           1.600000   \n",
       "50%             5.800000          3.000000           4.350000   \n",
       "75%             6.400000          3.300000           5.100000   \n",
       "max             7.900000          4.400000           6.900000   \n",
       "\n",
       "       petal width (cm)  \n",
       "count        150.000000  \n",
       "mean           1.199333  \n",
       "std            0.762238  \n",
       "min            0.100000  \n",
       "25%            0.300000  \n",
       "50%            1.300000  \n",
       "75%            1.800000  \n",
       "max            2.500000  "
      ]
     },
     "execution_count": 4,
     "metadata": {},
     "output_type": "execute_result"
    }
   ],
   "source": [
    "irisdata.describe()"
   ]
  },
  {
   "cell_type": "code",
   "execution_count": 5,
   "id": "7af61d8d",
   "metadata": {
    "ExecuteTime": {
     "end_time": "2022-12-02T07:34:06.512307Z",
     "start_time": "2022-12-02T07:34:06.457877Z"
    }
   },
   "outputs": [
    {
     "name": "stdout",
     "output_type": "stream",
     "text": [
      "<class 'pandas.core.frame.DataFrame'>\n",
      "RangeIndex: 150 entries, 0 to 149\n",
      "Data columns (total 4 columns):\n",
      " #   Column             Non-Null Count  Dtype  \n",
      "---  ------             --------------  -----  \n",
      " 0   sepal length (cm)  150 non-null    float64\n",
      " 1   sepal width (cm)   150 non-null    float64\n",
      " 2   petal length (cm)  150 non-null    float64\n",
      " 3   petal width (cm)   150 non-null    float64\n",
      "dtypes: float64(4)\n",
      "memory usage: 4.8 KB\n"
     ]
    }
   ],
   "source": [
    "irisdata.info()"
   ]
  },
  {
   "cell_type": "code",
   "execution_count": 6,
   "id": "83871a88",
   "metadata": {
    "ExecuteTime": {
     "end_time": "2022-12-02T07:34:06.537826Z",
     "start_time": "2022-12-02T07:34:06.520317Z"
    }
   },
   "outputs": [
    {
     "data": {
      "text/plain": [
       "sepal length (cm)    0\n",
       "sepal width (cm)     0\n",
       "petal length (cm)    0\n",
       "petal width (cm)     0\n",
       "dtype: int64"
      ]
     },
     "execution_count": 6,
     "metadata": {},
     "output_type": "execute_result"
    }
   ],
   "source": [
    "irisdata.isnull().sum()  # checking the missimg value\n"
   ]
  },
  {
   "cell_type": "markdown",
   "id": "e3fb62f0",
   "metadata": {},
   "source": [
    "# Finding the culster for k Means"
   ]
  },
  {
   "cell_type": "code",
   "execution_count": 7,
   "id": "978d8640",
   "metadata": {
    "ExecuteTime": {
     "end_time": "2022-12-02T07:34:10.058077Z",
     "start_time": "2022-12-02T07:34:06.543594Z"
    }
   },
   "outputs": [
    {
     "name": "stderr",
     "output_type": "stream",
     "text": [
      "C:\\Users\\user\\anaconda3\\lib\\site-packages\\sklearn\\cluster\\_kmeans.py:1036: UserWarning: KMeans is known to have a memory leak on Windows with MKL, when there are less chunks than available threads. You can avoid it by setting the environment variable OMP_NUM_THREADS=1.\n",
      "  warnings.warn(\n"
     ]
    }
   ],
   "source": [
    "#slice the important features\n",
    "x=irisdata.iloc[:,:].values #values gives array\n",
    "\n",
    "from sklearn.cluster import KMeans\n",
    "WCSS=[] \n",
    "for i in range(1,11):\n",
    "    kmeans=KMeans(n_clusters=i,init=\"k-means++\",max_iter=300,n_init=10,random_state=1)\n",
    "    kmeans.fit(x)\n",
    "    WCSS.append(kmeans.inertia_)"
   ]
  },
  {
   "cell_type": "code",
   "execution_count": 8,
   "id": "0bfca579",
   "metadata": {
    "ExecuteTime": {
     "end_time": "2022-12-02T07:34:10.485570Z",
     "start_time": "2022-12-02T07:34:10.060070Z"
    }
   },
   "outputs": [
    {
     "data": {
      "image/png": "[encoded data removed]",
      "text/plain": [
       "<Figure size 432x288 with 1 Axes>"
      ]
     },
     "metadata": {
      "needs_background": "light"
     },
     "output_type": "display_data"
    }
   ],
   "source": [
    "#let's plot the results on line graph, and observe the elbow.\n",
    "plt.plot(range(1,11),WCSS,marker = \"o\")\n",
    "plt.title(\" The Elbow Method\")\n",
    "plt.xlabel(\"Number of clusters\")\n",
    "plt.ylabel(\"WCSS\")\n",
    "plt.show()"
   ]
  },
  {
   "cell_type": "markdown",
   "id": "6d690ecc",
   "metadata": {},
   "source": [
    "## Applying kmeans to the Dataset"
   ]
  },
  {
   "cell_type": "code",
   "execution_count": 9,
   "id": "265cea76",
   "metadata": {
    "ExecuteTime": {
     "end_time": "2022-12-02T07:34:10.582139Z",
     "start_time": "2022-12-02T07:34:10.489814Z"
    }
   },
   "outputs": [
    {
     "name": "stdout",
     "output_type": "stream",
     "text": [
      "[1 1 1 1 1 1 1 1 1 1 1 1 1 1 1 1 1 1 1 1 1 1 1 1 1 1 1 1 1 1 1 1 1 1 1 1 1\n",
      " 1 1 1 1 1 1 1 1 1 1 1 1 1 0 0 2 0 0 0 0 0 0 0 0 0 0 0 0 0 0 0 0 0 0 0 0 0\n",
      " 0 0 0 2 0 0 0 0 0 0 0 0 0 0 0 0 0 0 0 0 0 0 0 0 0 0 2 0 2 2 2 2 0 2 2 2 2\n",
      " 2 2 0 0 2 2 2 2 0 2 0 2 0 2 2 0 0 2 2 2 2 2 0 2 2 2 2 0 2 2 2 0 2 2 2 0 2\n",
      " 2 0]\n"
     ]
    }
   ],
   "source": [
    "kmeans=KMeans(n_clusters=3,init=\"k-means++\",\n",
    "              n_init=10,max_iter=300,random_state=1)\n",
    "y_kmeans=kmeans.fit_predict(x)\n",
    "print(y_kmeans)"
   ]
  },
  {
   "cell_type": "markdown",
   "id": "f4210a47",
   "metadata": {},
   "source": [
    "# visualization the cluster"
   ]
  },
  {
   "cell_type": "code",
   "execution_count": 10,
   "id": "3a6dc36b",
   "metadata": {
    "ExecuteTime": {
     "end_time": "2022-12-02T07:34:11.083451Z",
     "start_time": "2022-12-02T07:34:10.590886Z"
    }
   },
   "outputs": [
    {
     "data": {
      "image/png": "[encoded data removed]",
      "text/plain": [
       "<Figure size 432x288 with 1 Axes>"
      ]
     },
     "metadata": {
      "needs_background": "light"
     },
     "output_type": "display_data"
    }
   ],
   "source": [
    "plt.scatter(x[y_kmeans==0,0],x[y_kmeans==0,1],s=100,c=\"orange\",label=\"Setosa\")\n",
    "plt.scatter(x[y_kmeans==1,0],x[y_kmeans==1,1],s=100,c=\"red\",label=\"Versicolour\")\n",
    "plt.scatter(x[y_kmeans==2,0],x[y_kmeans==2,1],s=100,c=\"yellow\",label=\"Virginica\")\n",
    "plt.scatter(kmeans.cluster_centers_[:,0],kmeans.cluster_centers_[:,1],\n",
    "           s=100,c=\"black\",label=\"Centroids\")\n",
    "plt.legend()\n",
    "plt.show()"
   ]
  },
  {
   "cell_type": "markdown",
   "id": "6886a016",
   "metadata": {},
   "source": [
    "#### from the above graph we see there are three cluster in total which visualized in different colors and the centroid of each cluster is visualized in black color"
   ]
  },
  {
   "cell_type": "code",
   "execution_count": null,
   "id": "f0e9c116",
   "metadata": {},
   "outputs": [],
   "source": []
  },
  {
   "cell_type": "markdown",
   "id": "e304df57",
   "metadata": {},
   "source": [
    "# Cluster Evaluation"
   ]
  },
  {
   "cell_type": "markdown",
   "id": "b8a04fa0",
   "metadata": {},
   "source": [
    "#### Let's evaluate the performance of our clusters.\n",
    "#### For that I used Silhouette score method.Silhouette score is used to evaluate the quality of clusters using clustering algorithms such as K-means in terms of how well samples are clusterd with other samples that are similar to each other."
   ]
  },
  {
   "cell_type": "code",
   "execution_count": 11,
   "id": "290f4761",
   "metadata": {
    "ExecuteTime": {
     "end_time": "2022-12-02T07:34:11.113277Z",
     "start_time": "2022-12-02T07:34:11.085181Z"
    }
   },
   "outputs": [
    {
     "name": "stdout",
     "output_type": "stream",
     "text": [
      "For 3 clusters, Silhouette score is  0.5528190123564095\n"
     ]
    }
   ],
   "source": [
    "from sklearn.metrics import silhouette_score\n",
    "score=silhouette_score(x,y_kmeans,metric=\"euclidean\")\n",
    "print(\"For 3 clusters, Silhouette score is \",score)"
   ]
  },
  {
   "cell_type": "markdown",
   "id": "f444ea9e",
   "metadata": {},
   "source": [
    "#### As we know Silhouette score vary -1 to 1. When score is 1 that means, the clusters are very dense and nicely separated. So we can say that our clusters are also nicely separated."
   ]
  },
  {
   "cell_type": "markdown",
   "id": "4d40c821",
   "metadata": {},
   "source": [
    "# THANK YOU !!"
   ]
  },
  {
   "cell_type": "code",
   "execution_count": null,
   "id": "0ecee8c4",
   "metadata": {},
   "outputs": [],
   "source": []
  }
 ],
 "metadata": {
  "kernelspec": {
   "display_name": "Python 3 (ipykernel)",
   "language": "python",
   "name": "python3"
  },
  "language_info": {
   "codemirror_mode": {
    "name": "ipython",
    "version": 3
   },
   "file_extension": ".py",
   "mimetype": "text/x-python",
   "name": "python",
   "nbconvert_exporter": "python",
   "pygments_lexer": "ipython3",
   "version": "3.9.12"
  }
 },
 "nbformat": 4,
 "nbformat_minor": 5
}
